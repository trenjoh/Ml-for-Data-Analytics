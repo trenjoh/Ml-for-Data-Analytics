{
 "cells": [
  {
   "cell_type": "code",
   "execution_count": 11,
   "metadata": {},
   "outputs": [],
   "source": [
    "import pandas as pd\n",
    "from sklearn.model_selection import train_test_split\n",
    "from sklearn.ensemble import RandomForestClassifier\n",
    "from sklearn.metrics import accuracy_score\n",
    "from sklearn.preprocessing import LabelEncoder"
   ]
  },
  {
   "cell_type": "code",
   "execution_count": 17,
   "metadata": {},
   "outputs": [],
   "source": [
    "# Loading the  dataset\n",
    "df = pd.read_csv(\"refined_american_culture_dataset.csv\")\n",
    "\n",
    "# Transforming the textual data to numerical data\n",
    "categorical_col = ['Age', 'City', 'FinancialStatus', 'Meal_Drink', 'Dressing', 'Hobby']\n",
    "label_encoders = {}\n",
    "for columns in categorical_col:\n",
    "    le = LabelEncoder()\n",
    "    df[columns] = le.fit_transform(df[columns])\n",
    "    label_encoders[columns] = le\n",
    "\n",
    "# Features and targets\n",
    "X = df[[\"Age\", \"City\", \"FinancialStatus\"]]\n",
    "y_meal = df['Meal_Drink']\n",
    "y_outfit = df['Dressing']\n",
    "y_hobby = df['Hobby']"
   ]
  },
  {
   "cell_type": "code",
   "execution_count": 18,
   "metadata": {},
   "outputs": [],
   "source": [
    "\n",
    "# Train-Test Split\n",
    "X_train, X_test, y_meal_train, y_meal_test = train_test_split(X, y_meal, test_size=0.2, random_state=42)\n",
    "X_train, X_test, y_outfit_train, y_outfit_test = train_test_split(X, y_outfit, test_size=0.2, random_state=42)\n",
    "X_train, X_test, y_hobby_train, y_hobby_test = train_test_split(X, y_hobby, test_size=0.2, random_state=42)\n",
    "\n",
    "# Train Random Forest Models\n",
    "meal_model = RandomForestClassifier(n_estimators=100, random_state=42).fit(X_train, y_meal_train)\n",
    "outfit_model = RandomForestClassifier(n_estimators=100, random_state=42).fit(X_train, y_outfit_train)\n",
    "hobby_model = RandomForestClassifier(n_estimators=100, random_state=42).fit(X_train, y_hobby_train)\n",
    "\n"
   ]
  },
  {
   "cell_type": "code",
   "execution_count": null,
   "metadata": {},
   "outputs": [
    {
     "name": "stdout",
     "output_type": "stream",
     "text": [
      "Financial Status '3465' not found in training data. Using default value.\n"
     ]
    }
   ],
   "source": [
    "# input\n",
    "age = 30\n",
    "city = \"dallas\"\n",
    "financial_status = 3465\n",
    "\n",
    "# Encode input values\n",
    "# city_encoded = label_encoders[\"City\"].transform([city])[0]  # Encode the city\n",
    "# financial_encoded = label_encoders[\"FinancialStatus\"].transform([str(financial_status)])[0]  # Encode financial status as a string\n",
    "# Encode input values\n",
    "city_preprocessed = city.lower().replace(\" \", \"\")\n",
    "if city_preprocessed in map(lambda x: x.lower().replace(\" \", \"\"), label_encoders[\"City\"].classes_):  # Check case- and space-insensitively\n",
    "    # Find the matching city in the encoder's classes\n",
    "    matching_city = next(c for c in label_encoders[\"City\"].classes_ if c.lower().replace(\" \", \"\") == city_preprocessed)\n",
    "    city_encoded = label_encoders[\"City\"].transform([matching_city])[0]\n",
    "else:\n",
    "    print(f\"City '{city}' not found in training data. Using default value.\")\n",
    "    city_encoded = 0  # Assign a default value (e.g., 0)\n",
    "\n",
    "if str(financial_status) in label_encoders[\"FinancialStatus\"].classes_:\n",
    "    financial_encoded = label_encoders[\"FinancialStatus\"].transform([str(financial_status)])[0]\n",
    "else:\n",
    "    print(f\"Financial Status '{financial_status}' not found in training data. Using default value.\")\n",
    "    financial_encoded = 0  # Assign a default value (e.g., 0)\n",
    "    \n",
    "user_input = [[age, city_encoded, financial_encoded]]  # Create the input array with encoded values"
   ]
  },
  {
   "cell_type": "code",
   "execution_count": 43,
   "metadata": {},
   "outputs": [
    {
     "name": "stdout",
     "output_type": "stream",
     "text": [
      "Meal Recommendation: Roast Turkey\n",
      "Outfit Recommendation: Sweater & Slacks\n",
      "Hobby Recommendation: Fishing\n"
     ]
    },
    {
     "name": "stderr",
     "output_type": "stream",
     "text": [
      "C:\\Users\\John\\AppData\\Local\\Packages\\PythonSoftwareFoundation.Python.3.12_qbz5n2kfra8p0\\LocalCache\\local-packages\\Python312\\site-packages\\sklearn\\base.py:493: UserWarning: X does not have valid feature names, but RandomForestClassifier was fitted with feature names\n",
      "  warnings.warn(\n",
      "C:\\Users\\John\\AppData\\Local\\Packages\\PythonSoftwareFoundation.Python.3.12_qbz5n2kfra8p0\\LocalCache\\local-packages\\Python312\\site-packages\\sklearn\\base.py:493: UserWarning: X does not have valid feature names, but RandomForestClassifier was fitted with feature names\n",
      "  warnings.warn(\n",
      "C:\\Users\\John\\AppData\\Local\\Packages\\PythonSoftwareFoundation.Python.3.12_qbz5n2kfra8p0\\LocalCache\\local-packages\\Python312\\site-packages\\sklearn\\base.py:493: UserWarning: X does not have valid feature names, but RandomForestClassifier was fitted with feature names\n",
      "  warnings.warn(\n"
     ]
    }
   ],
   "source": [
    "# Generate recommendations\n",
    "recommended_meal = label_encoders[\"Meal_Drink\"].inverse_transform(meal_model.predict(user_input))[0]\n",
    "recommended_outfit = label_encoders[\"Dressing\"].inverse_transform(outfit_model.predict(user_input))[0]\n",
    "recommended_hobby = label_encoders[\"Hobby\"].inverse_transform(hobby_model.predict(user_input))[0]\n",
    "\n",
    "# Output recommendations\n",
    "print(\"Meal Recommendation:\", recommended_meal)\n",
    "print(\"Outfit Recommendation:\", recommended_outfit)\n",
    "print(\"Hobby Recommendation:\", recommended_hobby)"
   ]
  }
 ],
 "metadata": {
  "kernelspec": {
   "display_name": "Python 3",
   "language": "python",
   "name": "python3"
  },
  "language_info": {
   "codemirror_mode": {
    "name": "ipython",
    "version": 3
   },
   "file_extension": ".py",
   "mimetype": "text/x-python",
   "name": "python",
   "nbconvert_exporter": "python",
   "pygments_lexer": "ipython3",
   "version": "3.12.9"
  }
 },
 "nbformat": 4,
 "nbformat_minor": 2
}
